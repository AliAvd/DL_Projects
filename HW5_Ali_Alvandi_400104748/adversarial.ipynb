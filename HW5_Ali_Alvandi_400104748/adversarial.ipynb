{
 "cells": [
  {
   "cell_type": "markdown",
   "metadata": {},
   "source": [
    "<center><h1>In the name of Allah</h1></center>"
   ]
  },
  {
   "cell_type": "markdown",
   "metadata": {},
   "source": [
    "Name: Ali Alvandi\n",
    "\n",
    "Student Number: 400104748"
   ]
  },
  {
   "cell_type": "markdown",
   "metadata": {},
   "source": [
    "In this notebook, you will explore adversarial attacks and training methods in deep learning. First, you will train a simple model, ResNet18, on the CIFAR-10 dataset. Next, you will learn about two different adversarial attacks: FGSM (Fast Gradient Sign Method) and PGD (Projected Gradient Descent). To enhance your understanding, you will implement the PGD attack from scratch, while the FGSM attack will be implemented using a library. After this, you will use the FGSM attack to generate adversarial examples and then perform adversarial training on the model using the CIFAR-10 dataset. Finally, you will compare the performance and robustness of the adversarially trained model with the original model. \n",
    "\n",
    "Good luck!"
   ]
  },
  {
   "cell_type": "markdown",
   "metadata": {},
   "source": [
    "## outline\n",
    "- Train Resnet on CIFAR10\n",
    "- FGSM Attack using torchattacks\n",
    "- PGD Attack from scratch\n",
    "- Visualization\n",
    "- Adversarial Training\n"
   ]
  },
  {
   "cell_type": "code",
   "execution_count": 2,
   "metadata": {
    "execution": {
     "iopub.execute_input": "2024-06-30T17:53:15.289772Z",
     "iopub.status.busy": "2024-06-30T17:53:15.289452Z",
     "iopub.status.idle": "2024-06-30T17:53:20.540602Z",
     "shell.execute_reply": "2024-06-30T17:53:20.539629Z",
     "shell.execute_reply.started": "2024-06-30T17:53:15.289745Z"
    }
   },
   "outputs": [],
   "source": [
    "import torch\n",
    "import torchvision\n",
    "import torchvision.transforms as transforms\n",
    "from torchvision.models import resnet18\n",
    "import torch.nn as nn\n",
    "import torch.nn.functional as F\n",
    "import torch.optim as optim\n",
    "import numpy as np\n",
    "from torch.autograd import Variable\n",
    "from tqdm import tqdm"
   ]
  },
  {
   "cell_type": "code",
   "execution_count": 3,
   "metadata": {
    "execution": {
     "iopub.execute_input": "2024-06-30T17:53:20.543243Z",
     "iopub.status.busy": "2024-06-30T17:53:20.542773Z",
     "iopub.status.idle": "2024-06-30T17:53:20.608716Z",
     "shell.execute_reply": "2024-06-30T17:53:20.607618Z",
     "shell.execute_reply.started": "2024-06-30T17:53:20.543210Z"
    }
   },
   "outputs": [
    {
     "name": "stdout",
     "output_type": "stream",
     "text": [
      "cuda:0\n"
     ]
    }
   ],
   "source": [
    "device = 'cuda:0' if torch.cuda.is_available() else 'cpu'\n",
    "print(device)"
   ]
  },
  {
   "cell_type": "markdown",
   "metadata": {},
   "source": [
    "## Train Resnet on CIFAR10 (15 pts)"
   ]
  },
  {
   "cell_type": "code",
   "execution_count": 4,
   "metadata": {
    "execution": {
     "iopub.execute_input": "2024-06-30T17:53:20.610712Z",
     "iopub.status.busy": "2024-06-30T17:53:20.610054Z",
     "iopub.status.idle": "2024-06-30T17:53:40.318736Z",
     "shell.execute_reply": "2024-06-30T17:53:40.317769Z",
     "shell.execute_reply.started": "2024-06-30T17:53:20.610673Z"
    }
   },
   "outputs": [
    {
     "name": "stdout",
     "output_type": "stream",
     "text": [
      "Downloading https://www.cs.toronto.edu/~kriz/cifar-10-python.tar.gz to ./data/cifar-10-python.tar.gz\n"
     ]
    },
    {
     "name": "stderr",
     "output_type": "stream",
     "text": [
      "100%|██████████| 170498071/170498071 [00:15<00:00, 11133709.80it/s]\n"
     ]
    },
    {
     "name": "stdout",
     "output_type": "stream",
     "text": [
      "Extracting ./data/cifar-10-python.tar.gz to ./data\n",
      "Files already downloaded and verified\n",
      "Number of training samples: 50000\n",
      "Number of testing samples: 10000\n"
     ]
    }
   ],
   "source": [
    "# Prepare Cifar10 data\n",
    "batch_size = 128\n",
    "transform = transforms.Compose([transforms.ToTensor(),])\n",
    "\n",
    "##############################################################################\n",
    "# Prepare training and test datasets and dataloaders                         #\n",
    "##############################################################################\n",
    "trainset = torchvision.datasets.CIFAR10(root='./data', train=True, download=True, transform=transform)\n",
    "trainloader = torch.utils.data.DataLoader(trainset, batch_size=batch_size, shuffle=True, num_workers=2)\n",
    "\n",
    "testset = torchvision.datasets.CIFAR10(root='./data', train=False, download=True, transform=transform)\n",
    "testloader = torch.utils.data.DataLoader(testset, batch_size=batch_size, shuffle=False, num_workers=2)\n",
    "\n",
    "print(f\"Number of training samples: {len(trainset)}\")\n",
    "print(f\"Number of testing samples: {len(testset)}\")\n",
    "\n",
    "################################ End #########################################\n",
    "\n",
    "classes = ('plane', 'car', 'bird', 'cat', 'deer', 'dog', 'frog', 'horse', 'ship', 'truck')"
   ]
  },
  {
   "cell_type": "code",
   "execution_count": 5,
   "metadata": {
    "execution": {
     "iopub.execute_input": "2024-06-30T17:53:40.320222Z",
     "iopub.status.busy": "2024-06-30T17:53:40.319880Z",
     "iopub.status.idle": "2024-06-30T17:53:40.738824Z",
     "shell.execute_reply": "2024-06-30T17:53:40.737885Z",
     "shell.execute_reply.started": "2024-06-30T17:53:40.320192Z"
    }
   },
   "outputs": [
    {
     "name": "stdout",
     "output_type": "stream",
     "text": [
      "resnet(\n",
      "  (conv): Sequential(\n",
      "    (0): Conv2d(3, 64, kernel_size=(7, 7), stride=(2, 2), padding=(3, 3), bias=False)\n",
      "    (1): BatchNorm2d(64, eps=1e-05, momentum=0.1, affine=True, track_running_stats=True)\n",
      "    (2): ReLU(inplace=True)\n",
      "    (3): MaxPool2d(kernel_size=3, stride=2, padding=1, dilation=1, ceil_mode=False)\n",
      "    (4): Sequential(\n",
      "      (0): BasicBlock(\n",
      "        (conv1): Conv2d(64, 64, kernel_size=(3, 3), stride=(1, 1), padding=(1, 1), bias=False)\n",
      "        (bn1): BatchNorm2d(64, eps=1e-05, momentum=0.1, affine=True, track_running_stats=True)\n",
      "        (relu): ReLU(inplace=True)\n",
      "        (conv2): Conv2d(64, 64, kernel_size=(3, 3), stride=(1, 1), padding=(1, 1), bias=False)\n",
      "        (bn2): BatchNorm2d(64, eps=1e-05, momentum=0.1, affine=True, track_running_stats=True)\n",
      "      )\n",
      "      (1): BasicBlock(\n",
      "        (conv1): Conv2d(64, 64, kernel_size=(3, 3), stride=(1, 1), padding=(1, 1), bias=False)\n",
      "        (bn1): BatchNorm2d(64, eps=1e-05, momentum=0.1, affine=True, track_running_stats=True)\n",
      "        (relu): ReLU(inplace=True)\n",
      "        (conv2): Conv2d(64, 64, kernel_size=(3, 3), stride=(1, 1), padding=(1, 1), bias=False)\n",
      "        (bn2): BatchNorm2d(64, eps=1e-05, momentum=0.1, affine=True, track_running_stats=True)\n",
      "      )\n",
      "    )\n",
      "    (5): Sequential(\n",
      "      (0): BasicBlock(\n",
      "        (conv1): Conv2d(64, 128, kernel_size=(3, 3), stride=(2, 2), padding=(1, 1), bias=False)\n",
      "        (bn1): BatchNorm2d(128, eps=1e-05, momentum=0.1, affine=True, track_running_stats=True)\n",
      "        (relu): ReLU(inplace=True)\n",
      "        (conv2): Conv2d(128, 128, kernel_size=(3, 3), stride=(1, 1), padding=(1, 1), bias=False)\n",
      "        (bn2): BatchNorm2d(128, eps=1e-05, momentum=0.1, affine=True, track_running_stats=True)\n",
      "        (downsample): Sequential(\n",
      "          (0): Conv2d(64, 128, kernel_size=(1, 1), stride=(2, 2), bias=False)\n",
      "          (1): BatchNorm2d(128, eps=1e-05, momentum=0.1, affine=True, track_running_stats=True)\n",
      "        )\n",
      "      )\n",
      "      (1): BasicBlock(\n",
      "        (conv1): Conv2d(128, 128, kernel_size=(3, 3), stride=(1, 1), padding=(1, 1), bias=False)\n",
      "        (bn1): BatchNorm2d(128, eps=1e-05, momentum=0.1, affine=True, track_running_stats=True)\n",
      "        (relu): ReLU(inplace=True)\n",
      "        (conv2): Conv2d(128, 128, kernel_size=(3, 3), stride=(1, 1), padding=(1, 1), bias=False)\n",
      "        (bn2): BatchNorm2d(128, eps=1e-05, momentum=0.1, affine=True, track_running_stats=True)\n",
      "      )\n",
      "    )\n",
      "    (6): Sequential(\n",
      "      (0): BasicBlock(\n",
      "        (conv1): Conv2d(128, 256, kernel_size=(3, 3), stride=(2, 2), padding=(1, 1), bias=False)\n",
      "        (bn1): BatchNorm2d(256, eps=1e-05, momentum=0.1, affine=True, track_running_stats=True)\n",
      "        (relu): ReLU(inplace=True)\n",
      "        (conv2): Conv2d(256, 256, kernel_size=(3, 3), stride=(1, 1), padding=(1, 1), bias=False)\n",
      "        (bn2): BatchNorm2d(256, eps=1e-05, momentum=0.1, affine=True, track_running_stats=True)\n",
      "        (downsample): Sequential(\n",
      "          (0): Conv2d(128, 256, kernel_size=(1, 1), stride=(2, 2), bias=False)\n",
      "          (1): BatchNorm2d(256, eps=1e-05, momentum=0.1, affine=True, track_running_stats=True)\n",
      "        )\n",
      "      )\n",
      "      (1): BasicBlock(\n",
      "        (conv1): Conv2d(256, 256, kernel_size=(3, 3), stride=(1, 1), padding=(1, 1), bias=False)\n",
      "        (bn1): BatchNorm2d(256, eps=1e-05, momentum=0.1, affine=True, track_running_stats=True)\n",
      "        (relu): ReLU(inplace=True)\n",
      "        (conv2): Conv2d(256, 256, kernel_size=(3, 3), stride=(1, 1), padding=(1, 1), bias=False)\n",
      "        (bn2): BatchNorm2d(256, eps=1e-05, momentum=0.1, affine=True, track_running_stats=True)\n",
      "      )\n",
      "    )\n",
      "    (7): Sequential(\n",
      "      (0): BasicBlock(\n",
      "        (conv1): Conv2d(256, 512, kernel_size=(3, 3), stride=(2, 2), padding=(1, 1), bias=False)\n",
      "        (bn1): BatchNorm2d(512, eps=1e-05, momentum=0.1, affine=True, track_running_stats=True)\n",
      "        (relu): ReLU(inplace=True)\n",
      "        (conv2): Conv2d(512, 512, kernel_size=(3, 3), stride=(1, 1), padding=(1, 1), bias=False)\n",
      "        (bn2): BatchNorm2d(512, eps=1e-05, momentum=0.1, affine=True, track_running_stats=True)\n",
      "        (downsample): Sequential(\n",
      "          (0): Conv2d(256, 512, kernel_size=(1, 1), stride=(2, 2), bias=False)\n",
      "          (1): BatchNorm2d(512, eps=1e-05, momentum=0.1, affine=True, track_running_stats=True)\n",
      "        )\n",
      "      )\n",
      "      (1): BasicBlock(\n",
      "        (conv1): Conv2d(512, 512, kernel_size=(3, 3), stride=(1, 1), padding=(1, 1), bias=False)\n",
      "        (bn1): BatchNorm2d(512, eps=1e-05, momentum=0.1, affine=True, track_running_stats=True)\n",
      "        (relu): ReLU(inplace=True)\n",
      "        (conv2): Conv2d(512, 512, kernel_size=(3, 3), stride=(1, 1), padding=(1, 1), bias=False)\n",
      "        (bn2): BatchNorm2d(512, eps=1e-05, momentum=0.1, affine=True, track_running_stats=True)\n",
      "      )\n",
      "    )\n",
      "  )\n",
      "  (fc): Linear(in_features=512, out_features=10, bias=True)\n",
      ")\n"
     ]
    }
   ],
   "source": [
    "# model architecture\n",
    "class resnet(nn.Module):\n",
    "  def __init__(self, num_cls):\n",
    "    super().__init__()\n",
    "    self.conv = nn.Sequential(*list(resnet18(weights=None).children())[:-2])\n",
    "    self.fc = nn.Linear(512, num_cls)\n",
    "\n",
    "  def forward(self, x):\n",
    "    x = self.conv(x)\n",
    "    x = torch.flatten(x, start_dim=1)\n",
    "    logits = self.fc(x)\n",
    "    return logits\n",
    "\n",
    "##############################################################################\n",
    "# Initialize model and move to device                                        #\n",
    "##############################################################################\n",
    "model = resnet(num_cls=10).to(device)\n",
    "print(model)\n",
    "################################ End #########################################"
   ]
  },
  {
   "cell_type": "code",
   "execution_count": 6,
   "metadata": {
    "execution": {
     "iopub.execute_input": "2024-06-30T17:53:40.741860Z",
     "iopub.status.busy": "2024-06-30T17:53:40.741275Z",
     "iopub.status.idle": "2024-06-30T17:53:40.747050Z",
     "shell.execute_reply": "2024-06-30T17:53:40.746062Z",
     "shell.execute_reply.started": "2024-06-30T17:53:40.741819Z"
    }
   },
   "outputs": [],
   "source": [
    "learning_rate = 0.01\n",
    "criterion = nn.CrossEntropyLoss()\n",
    "optimizer = optim.SGD(model.parameters(), lr=learning_rate, momentum=0.9)\n",
    "epochs = 100"
   ]
  },
  {
   "cell_type": "code",
   "execution_count": 7,
   "metadata": {
    "execution": {
     "iopub.execute_input": "2024-06-30T17:53:40.748376Z",
     "iopub.status.busy": "2024-06-30T17:53:40.748118Z",
     "iopub.status.idle": "2024-06-30T18:20:16.662354Z",
     "shell.execute_reply": "2024-06-30T18:20:16.661192Z",
     "shell.execute_reply.started": "2024-06-30T17:53:40.748352Z"
    }
   },
   "outputs": [
    {
     "name": "stdout",
     "output_type": "stream",
     "text": [
      "Epoch [1/100], Loss: 1.5338\n",
      "Epoch [2/100], Loss: 1.1130\n",
      "Epoch [3/100], Loss: 0.9161\n",
      "Epoch [4/100], Loss: 0.7701\n",
      "Epoch [5/100], Loss: 0.6521\n",
      "Epoch [6/100], Loss: 0.5470\n",
      "Epoch [7/100], Loss: 0.4581\n",
      "Epoch [8/100], Loss: 0.3713\n",
      "Epoch [9/100], Loss: 0.3013\n",
      "Epoch [10/100], Loss: 0.2522\n",
      "Epoch [11/100], Loss: 0.1989\n",
      "Epoch [12/100], Loss: 0.1770\n",
      "Epoch [13/100], Loss: 0.1441\n",
      "Epoch [14/100], Loss: 0.1200\n",
      "Epoch [15/100], Loss: 0.0966\n",
      "Epoch [16/100], Loss: 0.0948\n",
      "Epoch [17/100], Loss: 0.0779\n",
      "Epoch [18/100], Loss: 0.0670\n",
      "Epoch [19/100], Loss: 0.0638\n",
      "Epoch [20/100], Loss: 0.0595\n",
      "Epoch [21/100], Loss: 0.0485\n",
      "Epoch [22/100], Loss: 0.0352\n",
      "Epoch [23/100], Loss: 0.0395\n",
      "Epoch [24/100], Loss: 0.0435\n",
      "Epoch [25/100], Loss: 0.0400\n",
      "Epoch [26/100], Loss: 0.0300\n",
      "Epoch [27/100], Loss: 0.0309\n",
      "Epoch [28/100], Loss: 0.0223\n",
      "Epoch [29/100], Loss: 0.0244\n",
      "Epoch [30/100], Loss: 0.0252\n",
      "Epoch [31/100], Loss: 0.0268\n",
      "Epoch [32/100], Loss: 0.0277\n",
      "Epoch [33/100], Loss: 0.0214\n",
      "Epoch [34/100], Loss: 0.0185\n",
      "Epoch [35/100], Loss: 0.0188\n",
      "Epoch [36/100], Loss: 0.0160\n",
      "Epoch [37/100], Loss: 0.0158\n",
      "Epoch [38/100], Loss: 0.0099\n",
      "Epoch [39/100], Loss: 0.0084\n",
      "Epoch [40/100], Loss: 0.0108\n",
      "Epoch [41/100], Loss: 0.0103\n",
      "Epoch [42/100], Loss: 0.0089\n",
      "Epoch [43/100], Loss: 0.0086\n",
      "Epoch [44/100], Loss: 0.0119\n",
      "Epoch [45/100], Loss: 0.0146\n",
      "Epoch [46/100], Loss: 0.0126\n",
      "Epoch [52/100], Loss: 0.0026\n",
      "Epoch [53/100], Loss: 0.0028\n",
      "Epoch [54/100], Loss: 0.0030\n",
      "Epoch [55/100], Loss: 0.0037\n",
      "Epoch [56/100], Loss: 0.0027\n",
      "Epoch [57/100], Loss: 0.0024\n",
      "Epoch [58/100], Loss: 0.0021\n",
      "Epoch [59/100], Loss: 0.0020\n",
      "Epoch [60/100], Loss: 0.0012\n",
      "Epoch [61/100], Loss: 0.0009\n",
      "Epoch [62/100], Loss: 0.0006\n",
      "Epoch [63/100], Loss: 0.0007\n",
      "Epoch [64/100], Loss: 0.0008\n",
      "Epoch [65/100], Loss: 0.0006\n",
      "Epoch [66/100], Loss: 0.0009\n",
      "Epoch [67/100], Loss: 0.0015\n",
      "Epoch [68/100], Loss: 0.0008\n",
      "Epoch [69/100], Loss: 0.0006\n",
      "Epoch [70/100], Loss: 0.0020\n",
      "Epoch [71/100], Loss: 0.0035\n",
      "Epoch [72/100], Loss: 0.0092\n",
      "Epoch [73/100], Loss: 0.0159\n",
      "Epoch [74/100], Loss: 0.0169\n",
      "Epoch [75/100], Loss: 0.0164\n",
      "Epoch [76/100], Loss: 0.0150\n",
      "Epoch [77/100], Loss: 0.0104\n",
      "Epoch [78/100], Loss: 0.0065\n",
      "Epoch [79/100], Loss: 0.0040\n",
      "Epoch [80/100], Loss: 0.0094\n",
      "Epoch [81/100], Loss: 0.0073\n",
      "Epoch [82/100], Loss: 0.0051\n",
      "Epoch [83/100], Loss: 0.0032\n",
      "Epoch [84/100], Loss: 0.0026\n",
      "Epoch [85/100], Loss: 0.0030\n",
      "Epoch [86/100], Loss: 0.0022\n",
      "Epoch [87/100], Loss: 0.0023\n",
      "Epoch [88/100], Loss: 0.0036\n",
      "Epoch [89/100], Loss: 0.0029\n",
      "Epoch [90/100], Loss: 0.0021\n",
      "Epoch [91/100], Loss: 0.0018\n",
      "Epoch [92/100], Loss: 0.0015\n",
      "Epoch [93/100], Loss: 0.0005\n",
      "Epoch [94/100], Loss: 0.0003\n",
      "Epoch [95/100], Loss: 0.0004\n",
      "Epoch [96/100], Loss: 0.0002\n",
      "Epoch [97/100], Loss: 0.0001\n",
      "Epoch [98/100], Loss: 0.0001\n",
      "Epoch [99/100], Loss: 0.0001\n",
      "Epoch [100/100], Loss: 0.0001\n"
     ]
    }
   ],
   "source": [
    "##############################################################################\n",
    "# Implement train loop and log training loss after each epoch                #\n",
    "##############################################################################\n",
    "\n",
    "for epoch in range(epochs):\n",
    "    model.train()\n",
    "    running_loss = 0.0\n",
    "    for i, data in enumerate(trainloader, 0):\n",
    "        inputs, labels = data\n",
    "        inputs, labels = inputs.to(device), labels.to(device)\n",
    "\n",
    "        optimizer.zero_grad()\n",
    "        outputs = model(inputs)\n",
    "        loss = criterion(outputs, labels)\n",
    "        loss.backward()\n",
    "        optimizer.step()\n",
    "\n",
    "        running_loss += loss.item()\n",
    "    \n",
    "    print(f\"Epoch [{epoch + 1}/{epochs}], Loss: {running_loss / len(trainloader):.4f}\")\n",
    "\n",
    "\n",
    "################################ End #########################################\n",
    "model_name = \"resnet18_cifar10_model_pretrained.pth\"\n",
    "model_PATH = f\"{model_name}\"\n",
    "torch.save(model.state_dict(), model_PATH)"
   ]
  },
  {
   "cell_type": "code",
   "execution_count": 10,
   "metadata": {
    "execution": {
     "iopub.execute_input": "2024-06-30T18:20:17.985918Z",
     "iopub.status.busy": "2024-06-30T18:20:17.985620Z",
     "iopub.status.idle": "2024-06-30T18:20:19.302344Z",
     "shell.execute_reply": "2024-06-30T18:20:19.301244Z",
     "shell.execute_reply.started": "2024-06-30T18:20:17.985893Z"
    }
   },
   "outputs": [
    {
     "name": "stdout",
     "output_type": "stream",
     "text": [
      "Test Accuracy: 75.16%\n"
     ]
    }
   ],
   "source": [
    "##############################################################################\n",
    "# Evaluate the trained model on test set and print test accuracy             #\n",
    "##############################################################################\n",
    "model.eval()\n",
    "correct = 0\n",
    "total = 0\n",
    "with torch.no_grad():\n",
    "    for data in testloader:\n",
    "        images, labels = data\n",
    "        images, labels = images.to(device), labels.to(device)\n",
    "        outputs = model(images)\n",
    "        _, predicted = torch.max(outputs.data, 1)\n",
    "        total += labels.size(0)\n",
    "        correct += (predicted == labels).sum().item()\n",
    "\n",
    "print(f'Test Accuracy: {100 * correct / total:.2f}%')\n",
    "\n",
    "################################ End #########################################"
   ]
  },
  {
   "cell_type": "code",
   "execution_count": 11,
   "metadata": {
    "execution": {
     "iopub.execute_input": "2024-06-30T18:20:19.304293Z",
     "iopub.status.busy": "2024-06-30T18:20:19.303908Z",
     "iopub.status.idle": "2024-06-30T18:20:19.551956Z",
     "shell.execute_reply": "2024-06-30T18:20:19.551153Z",
     "shell.execute_reply.started": "2024-06-30T18:20:19.304253Z"
    }
   },
   "outputs": [],
   "source": [
    "# Save model\n",
    "model.eval()\n",
    "model_name = \"resnet18_cifar10_model_pretrained.pth\"\n",
    "model_PATH = f\"{model_name}\"\n",
    "torch.save(model.state_dict(), model_PATH)"
   ]
  },
  {
   "cell_type": "markdown",
   "metadata": {},
   "source": [
    "## FGSM Attack using torchattacks (10 pts)"
   ]
  },
  {
   "cell_type": "markdown",
   "metadata": {},
   "source": [
    "In this section you should run FGSM attack using torchattacks library (https://adversarial-attacks-pytorch.readthedocs.io/en/latest/index.html).\n",
    "\n",
    "Run the attack for $\\epsilon \\in \\{\\frac{1}{255}, \\frac{4}{255}, \\frac{8}{255},\\}$ report the performance of the model on untargeted FGSM attack on the test data."
   ]
  },
  {
   "cell_type": "code",
   "execution_count": 12,
   "metadata": {
    "execution": {
     "iopub.execute_input": "2024-06-30T18:23:00.230856Z",
     "iopub.status.busy": "2024-06-30T18:23:00.230131Z",
     "iopub.status.idle": "2024-06-30T18:23:14.944146Z",
     "shell.execute_reply": "2024-06-30T18:23:14.942972Z",
     "shell.execute_reply.started": "2024-06-30T18:23:00.230815Z"
    }
   },
   "outputs": [
    {
     "name": "stdout",
     "output_type": "stream",
     "text": [
      "Collecting torchattacks\n",
      "  Downloading torchattacks-3.5.1-py3-none-any.whl.metadata (927 bytes)\n",
      "Requirement already satisfied: torch>=1.7.1 in /opt/conda/lib/python3.10/site-packages (from torchattacks) (2.1.2)\n",
      "Requirement already satisfied: torchvision>=0.8.2 in /opt/conda/lib/python3.10/site-packages (from torchattacks) (0.16.2)\n",
      "Requirement already satisfied: scipy>=0.14.0 in /opt/conda/lib/python3.10/site-packages (from torchattacks) (1.11.4)\n",
      "Requirement already satisfied: tqdm>=4.56.1 in /opt/conda/lib/python3.10/site-packages (from torchattacks) (4.66.4)\n",
      "Collecting requests~=2.25.1 (from torchattacks)\n",
      "  Downloading requests-2.25.1-py2.py3-none-any.whl.metadata (4.2 kB)\n",
      "Requirement already satisfied: numpy>=1.19.4 in /opt/conda/lib/python3.10/site-packages (from torchattacks) (1.26.4)\n",
      "Collecting chardet<5,>=3.0.2 (from requests~=2.25.1->torchattacks)\n",
      "  Downloading chardet-4.0.0-py2.py3-none-any.whl.metadata (3.5 kB)\n",
      "Collecting idna<3,>=2.5 (from requests~=2.25.1->torchattacks)\n",
      "  Downloading idna-2.10-py2.py3-none-any.whl.metadata (9.1 kB)\n",
      "Requirement already satisfied: urllib3<1.27,>=1.21.1 in /opt/conda/lib/python3.10/site-packages (from requests~=2.25.1->torchattacks) (1.26.18)\n",
      "Requirement already satisfied: certifi>=2017.4.17 in /opt/conda/lib/python3.10/site-packages (from requests~=2.25.1->torchattacks) (2024.2.2)\n",
      "Requirement already satisfied: filelock in /opt/conda/lib/python3.10/site-packages (from torch>=1.7.1->torchattacks) (3.13.1)\n",
      "Requirement already satisfied: typing-extensions in /opt/conda/lib/python3.10/site-packages (from torch>=1.7.1->torchattacks) (4.9.0)\n",
      "Requirement already satisfied: sympy in /opt/conda/lib/python3.10/site-packages (from torch>=1.7.1->torchattacks) (1.12.1)\n",
      "Requirement already satisfied: networkx in /opt/conda/lib/python3.10/site-packages (from torch>=1.7.1->torchattacks) (3.2.1)\n",
      "Requirement already satisfied: jinja2 in /opt/conda/lib/python3.10/site-packages (from torch>=1.7.1->torchattacks) (3.1.2)\n",
      "Requirement already satisfied: fsspec in /opt/conda/lib/python3.10/site-packages (from torch>=1.7.1->torchattacks) (2024.3.1)\n",
      "Requirement already satisfied: pillow!=8.3.*,>=5.3.0 in /opt/conda/lib/python3.10/site-packages (from torchvision>=0.8.2->torchattacks) (9.5.0)\n",
      "Requirement already satisfied: MarkupSafe>=2.0 in /opt/conda/lib/python3.10/site-packages (from jinja2->torch>=1.7.1->torchattacks) (2.1.3)\n",
      "Requirement already satisfied: mpmath<1.4.0,>=1.1.0 in /opt/conda/lib/python3.10/site-packages (from sympy->torch>=1.7.1->torchattacks) (1.3.0)\n",
      "Downloading torchattacks-3.5.1-py3-none-any.whl (142 kB)\n",
      "\u001b[2K   \u001b[90m━━━━━━━━━━━━━━━━━━━━━━━━━━━━━━━━━━━━━━━━\u001b[0m \u001b[32m142.0/142.0 kB\u001b[0m \u001b[31m2.7 MB/s\u001b[0m eta \u001b[36m0:00:00\u001b[0ma \u001b[36m0:00:01\u001b[0m\n",
      "\u001b[?25hDownloading requests-2.25.1-py2.py3-none-any.whl (61 kB)\n",
      "\u001b[2K   \u001b[90m━━━━━━━━━━━━━━━━━━━━━━━━━━━━━━━━━━━━━━━━\u001b[0m \u001b[32m61.2/61.2 kB\u001b[0m \u001b[31m4.2 MB/s\u001b[0m eta \u001b[36m0:00:00\u001b[0m\n",
      "\u001b[?25hDownloading chardet-4.0.0-py2.py3-none-any.whl (178 kB)\n",
      "\u001b[2K   \u001b[90m━━━━━━━━━━━━━━━━━━━━━━━━━━━━━━━━━━━━━━━━\u001b[0m \u001b[32m178.7/178.7 kB\u001b[0m \u001b[31m8.3 MB/s\u001b[0m eta \u001b[36m0:00:00\u001b[0m\n",
      "\u001b[?25hDownloading idna-2.10-py2.py3-none-any.whl (58 kB)\n",
      "\u001b[2K   \u001b[90m━━━━━━━━━━━━━━━━━━━━━━━━━━━━━━━━━━━━━━━━\u001b[0m \u001b[32m58.8/58.8 kB\u001b[0m \u001b[31m4.5 MB/s\u001b[0m eta \u001b[36m0:00:00\u001b[0m\n",
      "\u001b[?25hInstalling collected packages: idna, chardet, requests, torchattacks\n",
      "  Attempting uninstall: idna\n",
      "    Found existing installation: idna 3.6\n",
      "    Uninstalling idna-3.6:\n",
      "      Successfully uninstalled idna-3.6\n",
      "  Attempting uninstall: requests\n",
      "    Found existing installation: requests 2.32.3\n",
      "    Uninstalling requests-2.32.3:\n",
      "      Successfully uninstalled requests-2.32.3\n",
      "\u001b[31mERROR: pip's dependency resolver does not currently take into account all the packages that are installed. This behaviour is the source of the following dependency conflicts.\n",
      "keras-cv 0.9.0 requires keras-core, which is not installed.\n",
      "keras-nlp 0.12.1 requires keras-core, which is not installed.\n",
      "tensorflow-decision-forests 1.8.1 requires wurlitzer, which is not installed.\n",
      "apache-beam 2.46.0 requires dill<0.3.2,>=0.3.1.1, but you have dill 0.3.8 which is incompatible.\n",
      "apache-beam 2.46.0 requires numpy<1.25.0,>=1.14.3, but you have numpy 1.26.4 which is incompatible.\n",
      "apache-beam 2.46.0 requires pyarrow<10.0.0,>=3.0.0, but you have pyarrow 14.0.2 which is incompatible.\n",
      "beatrix-jupyterlab 2023.128.151533 requires jupyterlab~=3.6.0, but you have jupyterlab 4.2.1 which is incompatible.\n",
      "conda 24.5.0 requires packaging>=23.0, but you have packaging 21.3 which is incompatible.\n",
      "conda 24.5.0 requires requests<3,>=2.28.0, but you have requests 2.25.1 which is incompatible.\n",
      "datasets 2.19.2 requires requests>=2.32.1, but you have requests 2.25.1 which is incompatible.\n",
      "docker 7.0.0 requires requests>=2.26.0, but you have requests 2.25.1 which is incompatible.\n",
      "google-cloud-aiplatform 0.6.0a1 requires google-api-core[grpc]<2.0.0dev,>=1.22.2, but you have google-api-core 2.11.1 which is incompatible.\n",
      "google-cloud-automl 1.0.1 requires google-api-core[grpc]<2.0.0dev,>=1.14.0, but you have google-api-core 2.11.1 which is incompatible.\n",
      "jupyterlab 4.2.1 requires jupyter-lsp>=2.0.0, but you have jupyter-lsp 1.5.1 which is incompatible.\n",
      "jupyterlab-lsp 5.1.0 requires jupyter-lsp>=2.0.0, but you have jupyter-lsp 1.5.1 which is incompatible.\n",
      "jupyterlab-server 2.27.2 requires requests>=2.31, but you have requests 2.25.1 which is incompatible.\n",
      "kfp 2.5.0 requires google-cloud-storage<3,>=2.2.1, but you have google-cloud-storage 1.44.0 which is incompatible.\n",
      "libpysal 4.9.2 requires packaging>=22, but you have packaging 21.3 which is incompatible.\n",
      "libpysal 4.9.2 requires requests>=2.27, but you have requests 2.25.1 which is incompatible.\n",
      "libpysal 4.9.2 requires shapely>=2.0.1, but you have shapely 1.8.5.post1 which is incompatible.\n",
      "momepy 0.7.0 requires shapely>=2, but you have shapely 1.8.5.post1 which is incompatible.\n",
      "osmnx 1.9.3 requires requests>=2.27, but you have requests 2.25.1 which is incompatible.\n",
      "osmnx 1.9.3 requires shapely>=2.0, but you have shapely 1.8.5.post1 which is incompatible.\n",
      "spopt 0.6.0 requires shapely>=2.0.1, but you have shapely 1.8.5.post1 which is incompatible.\n",
      "tensorflow 2.15.0 requires keras<2.16,>=2.15.0, but you have keras 3.3.3 which is incompatible.\n",
      "ydata-profiling 4.6.4 requires numpy<1.26,>=1.16.0, but you have numpy 1.26.4 which is incompatible.\u001b[0m\u001b[31m\n",
      "\u001b[0mSuccessfully installed chardet-4.0.0 idna-2.10 requests-2.25.1 torchattacks-3.5.1\n"
     ]
    }
   ],
   "source": [
    "!pip install torchattacks"
   ]
  },
  {
   "cell_type": "code",
   "execution_count": 14,
   "metadata": {
    "execution": {
     "iopub.execute_input": "2024-06-30T18:23:53.293231Z",
     "iopub.status.busy": "2024-06-30T18:23:53.292391Z",
     "iopub.status.idle": "2024-06-30T18:23:53.300174Z",
     "shell.execute_reply": "2024-06-30T18:23:53.299283Z",
     "shell.execute_reply.started": "2024-06-30T18:23:53.293195Z"
    }
   },
   "outputs": [],
   "source": [
    "import torchattacks\n",
    "def evaluate_model_on_adversarial_examples(model, dataloader, attack, device):\n",
    "    correct = 0\n",
    "    total = 0\n",
    "    model.eval()\n",
    "    \n",
    "    for data in dataloader:\n",
    "        images, labels = data\n",
    "        images, labels = images.to(device), labels.to(device)\n",
    "\n",
    "        adv_images = attack(images, labels)\n",
    "        \n",
    "        outputs = model(adv_images)\n",
    "        _, predicted = torch.max(outputs.data, 1)\n",
    "        total += labels.size(0)\n",
    "        correct += (predicted == labels).sum().item()\n",
    "    \n",
    "    accuracy = 100 * correct / total\n",
    "    return accuracy"
   ]
  },
  {
   "cell_type": "code",
   "execution_count": 15,
   "metadata": {
    "execution": {
     "iopub.execute_input": "2024-06-30T18:24:24.175901Z",
     "iopub.status.busy": "2024-06-30T18:24:24.174922Z",
     "iopub.status.idle": "2024-06-30T18:24:27.612434Z",
     "shell.execute_reply": "2024-06-30T18:24:27.611334Z",
     "shell.execute_reply.started": "2024-06-30T18:24:24.175868Z"
    }
   },
   "outputs": [
    {
     "name": "stdout",
     "output_type": "stream",
     "text": [
      "Test Accuracy after FGSM attack with epsilon = 0.00392156862745098: 54.26%\n"
     ]
    }
   ],
   "source": [
    "##############################################################################\n",
    "# run untargeted FGSM attack for epsilon = 1/255 and report its accuracy     #\n",
    "##############################################################################\n",
    "\n",
    "fgsm_attack = torchattacks.FGSM(model, eps=1/255)\n",
    "accuracy = evaluate_model_on_adversarial_examples(model, testloader, fgsm_attack, device)\n",
    "print(f'Test Accuracy after FGSM attack with epsilon = {1/255}: {accuracy:.2f}%')\n",
    "\n",
    "\n",
    "\n",
    "\n",
    "\n",
    "\n",
    "################################ End #########################################"
   ]
  },
  {
   "cell_type": "code",
   "execution_count": 16,
   "metadata": {
    "execution": {
     "iopub.execute_input": "2024-06-30T18:25:38.549991Z",
     "iopub.status.busy": "2024-06-30T18:25:38.549627Z",
     "iopub.status.idle": "2024-06-30T18:25:42.015852Z",
     "shell.execute_reply": "2024-06-30T18:25:42.014734Z",
     "shell.execute_reply.started": "2024-06-30T18:25:38.549953Z"
    }
   },
   "outputs": [
    {
     "name": "stdout",
     "output_type": "stream",
     "text": [
      "Test Accuracy after FGSM attack with epsilon = 0.01568627450980392: 23.47%\n"
     ]
    }
   ],
   "source": [
    "##############################################################################\n",
    "# run untargeted FGSM attack for epsilon = 4/255 and report its accuracy     #\n",
    "##############################################################################\n",
    "\n",
    "fgsm_attack = torchattacks.FGSM(model, eps=4/255)\n",
    "accuracy = evaluate_model_on_adversarial_examples(model, testloader, fgsm_attack, device)\n",
    "print(f'Test Accuracy after FGSM attack with epsilon = {4/255}: {accuracy:.2f}%')\n",
    "\n",
    "\n",
    "\n",
    "\n",
    "\n",
    "\n",
    "################################ End #########################################"
   ]
  },
  {
   "cell_type": "code",
   "execution_count": 17,
   "metadata": {
    "execution": {
     "iopub.execute_input": "2024-06-30T18:26:02.139517Z",
     "iopub.status.busy": "2024-06-30T18:26:02.139109Z",
     "iopub.status.idle": "2024-06-30T18:26:05.573429Z",
     "shell.execute_reply": "2024-06-30T18:26:05.572312Z",
     "shell.execute_reply.started": "2024-06-30T18:26:02.139480Z"
    }
   },
   "outputs": [
    {
     "name": "stdout",
     "output_type": "stream",
     "text": [
      "Test Accuracy after FGSM attack with epsilon = 0.03137254901960784: 11.14%\n"
     ]
    }
   ],
   "source": [
    "##############################################################################\n",
    "# run untargeted FGSM attack for epsilon = 8/255 and report its accuracy     #\n",
    "##############################################################################\n",
    "\n",
    "fgsm_attack = torchattacks.FGSM(model, eps=8/255)\n",
    "accuracy = evaluate_model_on_adversarial_examples(model, testloader, fgsm_attack, device)\n",
    "print(f'Test Accuracy after FGSM attack with epsilon = {8/255}: {accuracy:.2f}%')\n",
    "\n",
    "\n",
    "\n",
    "\n",
    "\n",
    "\n",
    "################################ End #########################################"
   ]
  },
  {
   "cell_type": "markdown",
   "metadata": {},
   "source": [
    "## PGD Attack from scratch (30 pts)"
   ]
  },
  {
   "cell_type": "markdown",
   "metadata": {},
   "source": [
    "In this section you should implement PGD attack from scratch."
   ]
  },
  {
   "cell_type": "code",
   "execution_count": 21,
   "metadata": {
    "execution": {
     "iopub.execute_input": "2024-06-30T18:30:28.401506Z",
     "iopub.status.busy": "2024-06-30T18:30:28.400774Z",
     "iopub.status.idle": "2024-06-30T18:30:28.412310Z",
     "shell.execute_reply": "2024-06-30T18:30:28.411161Z",
     "shell.execute_reply.started": "2024-06-30T18:30:28.401467Z"
    }
   },
   "outputs": [],
   "source": [
    "class LinfPGDAttack(object):\n",
    "\n",
    "    def __init__(self, model, epsilon = 8/255, k = 2, alpha = 2/255):\n",
    "        self.model = model\n",
    "        self.epsilon = epsilon\n",
    "        self.steps = k\n",
    "        self.alpha = alpha\n",
    "\n",
    "    def __call__(self, image, label):\n",
    "\n",
    "        image = image.to(device)\n",
    "        label = label.to(device)\n",
    "\n",
    "        out = self.model(image)\n",
    "        _, pred = torch.max(out, 1)\n",
    "\n",
    "        perturbed_image = image.clone().detach().requires_grad_(True).to(device)\n",
    "        perturbed_image.to(device)\n",
    "        \n",
    "        for _ in range(self.steps):\n",
    "            self.model.zero_grad()\n",
    "        \n",
    "            output = self.model(perturbed_image)\n",
    "\n",
    "            loss = nn.CrossEntropyLoss()(output, label)\n",
    "\n",
    "            loss.backward()\n",
    "            \n",
    "            sign_data_grad = perturbed_image.grad.sign()\n",
    "            \n",
    "            perturbed_image = perturbed_image + self.alpha * sign_data_grad\n",
    "            \n",
    "            perturbed_image = torch.clamp(perturbed_image, 0, 1)\n",
    "\n",
    "            perturbed_image = torch.max(torch.min(perturbed_image, image + self.epsilon), image - self.epsilon).detach().requires_grad_(True)\n",
    "\n",
    "            \n",
    "            ################################ End #########################################\n",
    "        \n",
    "        return perturbed_image"
   ]
  },
  {
   "cell_type": "code",
   "execution_count": 22,
   "metadata": {
    "execution": {
     "iopub.execute_input": "2024-06-30T18:30:30.816649Z",
     "iopub.status.busy": "2024-06-30T18:30:30.816032Z",
     "iopub.status.idle": "2024-06-30T18:30:30.823166Z",
     "shell.execute_reply": "2024-06-30T18:30:30.822268Z",
     "shell.execute_reply.started": "2024-06-30T18:30:30.816613Z"
    }
   },
   "outputs": [],
   "source": [
    "def evaluate_model_on_pgd(model, dataloader, attack, device):\n",
    "    correct = 0\n",
    "    total = 0\n",
    "    model.eval()\n",
    "    \n",
    "    for data in dataloader:\n",
    "        images, labels = data\n",
    "        images, labels = images.to(device), labels.to(device)\n",
    "        \n",
    "        adv_images = attack(images, labels)\n",
    "        \n",
    "        outputs = model(adv_images)\n",
    "        _, predicted = torch.max(outputs.data, 1)\n",
    "        total += labels.size(0)\n",
    "        correct += (predicted == labels).sum().item()\n",
    "    \n",
    "    accuracy = 100 * correct / total\n",
    "    return accuracy"
   ]
  },
  {
   "cell_type": "code",
   "execution_count": 23,
   "metadata": {
    "execution": {
     "iopub.execute_input": "2024-06-30T18:30:32.845850Z",
     "iopub.status.busy": "2024-06-30T18:30:32.844908Z",
     "iopub.status.idle": "2024-06-30T18:31:19.633834Z",
     "shell.execute_reply": "2024-06-30T18:31:19.632731Z",
     "shell.execute_reply.started": "2024-06-30T18:30:32.845805Z"
    }
   },
   "outputs": [
    {
     "name": "stdout",
     "output_type": "stream",
     "text": [
      "Test Accuracy after PGD attack with k = 2: 16.40%\n",
      "Test Accuracy after PGD attack with k = 4: 2.81%\n",
      "Test Accuracy after PGD attack with k = 8: 0.71%\n"
     ]
    }
   ],
   "source": [
    "##############################################################################\n",
    "# Evaluate PGD attack on the trained model with k=2,4,8                      #\n",
    "##############################################################################\n",
    "\n",
    "k_list = [2,4,8]\n",
    "\n",
    "\n",
    "##############################################################################\n",
    "\n",
    "for k in k_list:\n",
    "    pgd_attack = LinfPGDAttack(model, epsilon=8/255, k=k, alpha=2/255)\n",
    "    accuracy = evaluate_model_on_pgd(model, testloader, pgd_attack, device)\n",
    "    print(f'Test Accuracy after PGD attack with k = {k}: {accuracy:.2f}%')\n",
    "\n",
    "\n",
    "################################ End #########################################"
   ]
  },
  {
   "cell_type": "markdown",
   "metadata": {},
   "source": [
    "## Visualization (10 pts)"
   ]
  },
  {
   "cell_type": "markdown",
   "metadata": {},
   "source": [
    "Implement a function to plot the original image, the perturbed imaged and their predicted labels by the model"
   ]
  },
  {
   "cell_type": "code",
   "execution_count": 31,
   "metadata": {
    "execution": {
     "iopub.execute_input": "2024-06-30T18:38:43.052436Z",
     "iopub.status.busy": "2024-06-30T18:38:43.051501Z",
     "iopub.status.idle": "2024-06-30T18:38:43.061964Z",
     "shell.execute_reply": "2024-06-30T18:38:43.060995Z",
     "shell.execute_reply.started": "2024-06-30T18:38:43.052401Z"
    }
   },
   "outputs": [],
   "source": [
    "##############################################################################\n",
    "# Implement the function described                                           #\n",
    "##############################################################################\n",
    "\n",
    "def visualize_attack(model, original_image, perturbed_image, device):\n",
    "    model.eval()\n",
    "    \n",
    "    original_image = original_image.to(device).unsqueeze(0)\n",
    "    perturbed_image = perturbed_image.to(device).unsqueeze(0)\n",
    "    \n",
    "    with torch.no_grad():\n",
    "        orig_pred = model(original_image)\n",
    "        pert_pred = model(perturbed_image)\n",
    "    \n",
    "    orig_label = classes[orig_pred.argmax(dim=1).item()]\n",
    "    pert_label = classes[pert_pred.argmax(dim=1).item()]\n",
    "    \n",
    "    original_image = original_image.squeeze().cpu().numpy().transpose(1, 2, 0)\n",
    "    perturbed_image = perturbed_image.squeeze().cpu().detach().numpy().transpose(1, 2, 0)\n",
    "    \n",
    "    original_image = np.clip(original_image, 0, 1)\n",
    "    perturbed_image = np.clip(perturbed_image, 0, 1)\n",
    "    \n",
    "    fig, axs = plt.subplots(1, 2, figsize=(10, 5))\n",
    "    axs[0].imshow(original_image)\n",
    "    axs[0].set_title(f'Original Image\\nPredicted Label: {orig_label}')\n",
    "    axs[0].axis('off')\n",
    "    \n",
    "    axs[1].imshow(perturbed_image)\n",
    "    axs[1].set_title(f'Perturbed Image\\nPredicted Label: {pert_label}')\n",
    "    axs[1].axis('off')\n",
    "    \n",
    "    plt.show()\n",
    "\n",
    "\n",
    "\n",
    "\n",
    "\n",
    "################################ End #########################################"
   ]
  },
  {
   "cell_type": "code",
   "execution_count": 28,
   "metadata": {
    "execution": {
     "iopub.execute_input": "2024-06-30T18:35:17.800345Z",
     "iopub.status.busy": "2024-06-30T18:35:17.799390Z",
     "iopub.status.idle": "2024-06-30T18:35:18.616298Z",
     "shell.execute_reply": "2024-06-30T18:35:18.615373Z",
     "shell.execute_reply.started": "2024-06-30T18:35:17.800302Z"
    }
   },
   "outputs": [
    {
     "data": {
      "image/png": "[encoded data removed]",
      "text/plain": [
       "<Figure size 1000x500 with 2 Axes>"
      ]
     },
     "metadata": {},
     "output_type": "display_data"
    },
    {
     "data": {
      "image/png": "[encoded data removed]",
      "text/plain": [
       "<Figure size 1000x500 with 2 Axes>"
      ]
     },
     "metadata": {},
     "output_type": "display_data"
    },
    {
     "data": {
      "image/png": "[encoded data removed]",
      "text/plain": [
       "<Figure size 1000x500 with 2 Axes>"
      ]
     },
     "metadata": {},
     "output_type": "display_data"
    }
   ],
   "source": [
    "##############################################################################\n",
    "# Choose 3 random images from testset and run FGSM attack and visualize      #\n",
    "##############################################################################\n",
    "import matplotlib.pyplot as plt\n",
    "import numpy as np\n",
    "def visualize_fgsm_attack(model, testloader, device, epsilon):\n",
    "    fgsm_attack = torchattacks.FGSM(model, eps=epsilon)\n",
    "    \n",
    "    random_indices = np.random.choice(len(testset), 3, replace=False)\n",
    "    random_images = [testset[i][0] for i in random_indices]\n",
    "    random_labels = [testset[i][1] for i in random_indices]\n",
    "    \n",
    "    for image, label in zip(random_images, random_labels):\n",
    "        perturbed_image = fgsm_attack(image.unsqueeze(0).to(device), torch.tensor([label]).to(device)).squeeze(0).cpu()\n",
    "        visualize_attack(model, image, perturbed_image, device)\n",
    "\n",
    "# Run and visualize FGSM attack with epsilon = 8/255\n",
    "visualize_fgsm_attack(model, testloader, device, epsilon=8/255)\n",
    "\n",
    "\n",
    "\n",
    "\n",
    "\n",
    "################################ End #########################################"
   ]
  },
  {
   "cell_type": "code",
   "execution_count": 32,
   "metadata": {
    "execution": {
     "iopub.execute_input": "2024-06-30T18:38:47.514483Z",
     "iopub.status.busy": "2024-06-30T18:38:47.513750Z",
     "iopub.status.idle": "2024-06-30T18:38:48.427569Z",
     "shell.execute_reply": "2024-06-30T18:38:48.426600Z",
     "shell.execute_reply.started": "2024-06-30T18:38:47.514448Z"
    }
   },
   "outputs": [
    {
     "data": {
      "image/png": "[encoded data removed]",
      "text/plain": [
       "<Figure size 1000x500 with 2 Axes>"
      ]
     },
     "metadata": {},
     "output_type": "display_data"
    },
    {
     "data": {
      "image/png": "[encoded data removed]",
      "text/plain": [
       "<Figure size 1000x500 with 2 Axes>"
      ]
     },
     "metadata": {},
     "output_type": "display_data"
    },
    {
     "data": {
      "image/png": "[encoded data removed]",
      "text/plain": [
       "<Figure size 1000x500 with 2 Axes>"
      ]
     },
     "metadata": {},
     "output_type": "display_data"
    }
   ],
   "source": [
    "##############################################################################\n",
    "# Choose 3 random images from testset and run PGD attack and visualize      #\n",
    "##############################################################################\n",
    "\n",
    "def visualize_pgd_attack(model, testloader, device, epsilon, k, alpha):\n",
    "    pgd_attack = LinfPGDAttack(model, epsilon=epsilon, k=k, alpha=alpha)\n",
    "    \n",
    "    random_indices = np.random.choice(len(testset), 3, replace=False)\n",
    "    random_images = [testset[i][0] for i in random_indices]\n",
    "    random_labels = [testset[i][1] for i in random_indices]\n",
    "    \n",
    "    for image, label in zip(random_images, random_labels):\n",
    "        perturbed_image = pgd_attack(image.unsqueeze(0).to(device), torch.tensor([label]).to(device)).squeeze(0).cpu()\n",
    "        visualize_attack(model, image, perturbed_image, device)\n",
    "\n",
    "# Run and visualize PGD attack with epsilon = 8/255, k = 8, alpha = 2/255\n",
    "visualize_pgd_attack(model, testloader, device, epsilon=8/255, k=8, alpha=2/255)\n",
    "\n",
    "\n",
    "\n",
    "\n",
    "\n",
    "################################ End #########################################"
   ]
  },
  {
   "cell_type": "markdown",
   "metadata": {},
   "source": [
    "## Adversarial Training (35 pts)"
   ]
  },
  {
   "cell_type": "markdown",
   "metadata": {},
   "source": [
    "In this section you are going to adversarially train your model and see the results. "
   ]
  },
  {
   "cell_type": "code",
   "execution_count": 33,
   "metadata": {
    "execution": {
     "iopub.execute_input": "2024-06-30T18:40:45.195086Z",
     "iopub.status.busy": "2024-06-30T18:40:45.194669Z",
     "iopub.status.idle": "2024-06-30T19:30:16.267002Z",
     "shell.execute_reply": "2024-06-30T19:30:16.265849Z",
     "shell.execute_reply.started": "2024-06-30T18:40:45.195054Z"
    }
   },
   "outputs": [
    {
     "name": "stdout",
     "output_type": "stream",
     "text": [
      "Epoch [1/100], Loss: 2.1161\n",
      "Epoch [2/100], Loss: 1.9831\n",
      "Epoch [3/100], Loss: 1.9224\n",
      "Epoch [4/100], Loss: 1.8830\n",
      "Epoch [5/100], Loss: 1.8352\n",
      "Epoch [6/100], Loss: 1.8020\n",
      "Epoch [7/100], Loss: 1.7721\n",
      "Epoch [8/100], Loss: 1.7368\n",
      "Epoch [9/100], Loss: 1.7040\n",
      "Epoch [10/100], Loss: 1.6714\n",
      "Epoch [11/100], Loss: 1.6343\n",
      "Epoch [12/100], Loss: 1.6053\n",
      "Epoch [13/100], Loss: 1.5680\n",
      "Epoch [14/100], Loss: 1.5313\n",
      "Epoch [15/100], Loss: 1.4938\n",
      "Epoch [16/100], Loss: 1.4520\n",
      "Epoch [17/100], Loss: 1.4127\n",
      "Epoch [18/100], Loss: 1.3781\n",
      "Epoch [19/100], Loss: 1.3425\n",
      "Epoch [20/100], Loss: 1.2963\n",
      "Epoch [21/100], Loss: 1.2579\n",
      "Epoch [22/100], Loss: 1.2178\n",
      "Epoch [23/100], Loss: 1.1819\n",
      "Epoch [24/100], Loss: 1.1402\n",
      "Epoch [25/100], Loss: 1.1032\n",
      "Epoch [26/100], Loss: 1.0665\n",
      "Epoch [27/100], Loss: 1.0325\n",
      "Epoch [28/100], Loss: 0.9998\n",
      "Epoch [29/100], Loss: 0.9721\n",
      "Epoch [30/100], Loss: 0.9393\n",
      "Epoch [31/100], Loss: 0.9043\n",
      "Epoch [32/100], Loss: 0.8821\n",
      "Epoch [33/100], Loss: 0.8542\n",
      "Epoch [34/100], Loss: 0.8239\n",
      "Epoch [35/100], Loss: 0.7972\n",
      "Epoch [36/100], Loss: 0.7748\n",
      "Epoch [37/100], Loss: 0.7467\n",
      "Epoch [38/100], Loss: 0.7354\n",
      "Epoch [39/100], Loss: 0.7058\n",
      "Epoch [40/100], Loss: 0.6800\n",
      "Epoch [41/100], Loss: 0.6667\n",
      "Epoch [42/100], Loss: 0.6348\n",
      "Epoch [43/100], Loss: 0.6231\n",
      "Epoch [44/100], Loss: 0.6070\n",
      "Epoch [45/100], Loss: 0.5925\n",
      "Epoch [46/100], Loss: 0.5718\n",
      "Epoch [47/100], Loss: 0.5483\n",
      "Epoch [48/100], Loss: 0.5381\n",
      "Epoch [49/100], Loss: 0.5150\n",
      "Epoch [50/100], Loss: 0.5015\n",
      "Epoch [51/100], Loss: 0.5002\n",
      "Epoch [52/100], Loss: 0.4769\n",
      "Epoch [53/100], Loss: 0.4680\n",
      "Epoch [54/100], Loss: 0.4490\n",
      "Epoch [55/100], Loss: 0.4364\n",
      "Epoch [56/100], Loss: 0.4195\n",
      "Epoch [57/100], Loss: 0.4256\n",
      "Epoch [58/100], Loss: 0.3988\n",
      "Epoch [59/100], Loss: 0.3850\n",
      "Epoch [60/100], Loss: 0.3862\n",
      "Epoch [61/100], Loss: 0.3761\n",
      "Epoch [62/100], Loss: 0.3785\n",
      "Epoch [63/100], Loss: 0.3417\n",
      "Epoch [64/100], Loss: 0.3362\n",
      "Epoch [65/100], Loss: 0.3452\n",
      "Epoch [66/100], Loss: 0.3242\n",
      "Epoch [67/100], Loss: 0.3182\n",
      "Epoch [68/100], Loss: 0.3037\n",
      "Epoch [69/100], Loss: 0.3024\n",
      "Epoch [70/100], Loss: 0.2964\n",
      "Epoch [71/100], Loss: 0.2881\n",
      "Epoch [72/100], Loss: 0.2674\n",
      "Epoch [73/100], Loss: 0.2641\n",
      "Epoch [74/100], Loss: 0.2802\n",
      "Epoch [75/100], Loss: 0.2627\n",
      "Epoch [76/100], Loss: 0.2555\n",
      "Epoch [77/100], Loss: 0.2470\n",
      "Epoch [78/100], Loss: 0.2474\n",
      "Epoch [79/100], Loss: 0.2362\n",
      "Epoch [80/100], Loss: 0.2247\n",
      "Epoch [81/100], Loss: 0.2307\n",
      "Epoch [82/100], Loss: 0.2289\n",
      "Epoch [83/100], Loss: 0.2247\n",
      "Epoch [84/100], Loss: 0.2034\n",
      "Epoch [85/100], Loss: 0.1971\n",
      "Epoch [86/100], Loss: 0.1969\n",
      "Epoch [87/100], Loss: 0.1970\n",
      "Epoch [88/100], Loss: 0.2012\n",
      "Epoch [89/100], Loss: 0.2005\n",
      "Epoch [90/100], Loss: 0.1880\n",
      "Epoch [91/100], Loss: 0.1869\n",
      "Epoch [92/100], Loss: 0.1813\n",
      "Epoch [93/100], Loss: 0.1813\n",
      "Epoch [94/100], Loss: 0.1651\n",
      "Epoch [95/100], Loss: 0.1587\n",
      "Epoch [96/100], Loss: 0.1698\n",
      "Epoch [97/100], Loss: 0.1651\n",
      "Epoch [98/100], Loss: 0.1507\n",
      "Epoch [99/100], Loss: 0.1538\n",
      "Epoch [100/100], Loss: 0.1542\n"
     ]
    }
   ],
   "source": [
    "##############################################################################\n",
    "# Load a new resnet model for adversarial training                           #\n",
    "# Train the model on perturbed images from                                   #\n",
    "# untargeted FGSM attack with epsilon = 8/255 on train dataset               #\n",
    "# Also use the following setup for training the model                        #\n",
    "##############################################################################\n",
    "\n",
    "adv_model = resnet(num_cls=10).to(device)\n",
    "adv_model.to(device)\n",
    "\n",
    "learning_rate = 0.01\n",
    "criterion = nn.CrossEntropyLoss()\n",
    "optimizer = optim.SGD(adv_model.parameters(), lr=learning_rate, momentum=0.9)\n",
    "epochs = 100\n",
    "\n",
    "\n",
    "\n",
    "# Your code goes here\n",
    "epsilon = 8/255\n",
    "fgsm_attack = torchattacks.FGSM(adv_model, eps=epsilon)\n",
    "\n",
    "for epoch in range(epochs):\n",
    "    adv_model.train()\n",
    "    running_loss = 0.0\n",
    "    for i, data in enumerate(trainloader, 0):\n",
    "        inputs, labels = data\n",
    "        inputs, labels = inputs.to(device), labels.to(device)\n",
    "\n",
    "        adv_inputs = fgsm_attack(inputs, labels)\n",
    "\n",
    "        optimizer.zero_grad()\n",
    "        outputs = adv_model(adv_inputs)\n",
    "        loss = criterion(outputs, labels)\n",
    "        loss.backward()\n",
    "        optimizer.step()\n",
    "\n",
    "        running_loss += loss.item()\n",
    "    \n",
    "    print(f\"Epoch [{epoch + 1}/{epochs}], Loss: {running_loss / len(trainloader):.4f}\")\n",
    "\n",
    "\n",
    "################################ End #########################################"
   ]
  },
  {
   "cell_type": "code",
   "execution_count": 34,
   "metadata": {
    "execution": {
     "iopub.execute_input": "2024-06-30T19:30:16.270357Z",
     "iopub.status.busy": "2024-06-30T19:30:16.269512Z",
     "iopub.status.idle": "2024-06-30T19:30:17.405666Z",
     "shell.execute_reply": "2024-06-30T19:30:17.404641Z",
     "shell.execute_reply.started": "2024-06-30T19:30:16.270309Z"
    }
   },
   "outputs": [
    {
     "name": "stdout",
     "output_type": "stream",
     "text": [
      "Test Accuracy of adversarially trained model: 60.78%\n"
     ]
    }
   ],
   "source": [
    "##############################################################################\n",
    "# Evaluate the new model on the test dataset                                 #\n",
    "##############################################################################\n",
    "\n",
    "# Your code goes here\n",
    "adv_model.eval()\n",
    "correct = 0\n",
    "total = 0\n",
    "with torch.no_grad():\n",
    "    for data in testloader:\n",
    "        images, labels = data\n",
    "        images, labels = images.to(device), labels.to(device)\n",
    "        outputs = adv_model(images)\n",
    "        _, predicted = torch.max(outputs.data, 1)\n",
    "        total += labels.size(0)\n",
    "        correct += (predicted == labels).sum().item()\n",
    "\n",
    "print(f'Test Accuracy of adversarially trained model: {100 * correct / total:.2f}%')\n",
    "\n",
    "################################ End #########################################"
   ]
  },
  {
   "cell_type": "code",
   "execution_count": 36,
   "metadata": {
    "execution": {
     "iopub.execute_input": "2024-06-30T19:30:30.541369Z",
     "iopub.status.busy": "2024-06-30T19:30:30.541053Z",
     "iopub.status.idle": "2024-06-30T19:30:33.875001Z",
     "shell.execute_reply": "2024-06-30T19:30:33.873923Z",
     "shell.execute_reply.started": "2024-06-30T19:30:30.541336Z"
    }
   },
   "outputs": [
    {
     "name": "stdout",
     "output_type": "stream",
     "text": [
      "Test Accuracy after FGSM attack with epsilon = 8/255: 22.98%\n"
     ]
    }
   ],
   "source": [
    "##############################################################################\n",
    "# Run FGSM attack on the adversarially trained model with epsilon = 8/255    #\n",
    "##############################################################################\n",
    "\n",
    "# Your code goes here\n",
    "fgsm_attack = torchattacks.FGSM(adv_model, eps=8/255)\n",
    "accuracy_fgsm = evaluate_model_on_adversarial_examples(adv_model, testloader, fgsm_attack, device)\n",
    "print(f'Test Accuracy after FGSM attack with epsilon = 8/255: {accuracy_fgsm:.2f}%')\n",
    "\n",
    "################################ End #########################################"
   ]
  },
  {
   "cell_type": "code",
   "execution_count": 35,
   "metadata": {
    "execution": {
     "iopub.execute_input": "2024-06-30T19:30:17.407674Z",
     "iopub.status.busy": "2024-06-30T19:30:17.407266Z",
     "iopub.status.idle": "2024-06-30T19:30:30.538861Z",
     "shell.execute_reply": "2024-06-30T19:30:30.537756Z",
     "shell.execute_reply.started": "2024-06-30T19:30:17.407632Z"
    }
   },
   "outputs": [
    {
     "name": "stdout",
     "output_type": "stream",
     "text": [
      "Test Accuracy after PGD attack with k=4: 19.16%\n"
     ]
    }
   ],
   "source": [
    "##############################################################################\n",
    "#  Run PGD attack on the adversarially trained model with k=4                #\n",
    "##############################################################################\n",
    "\n",
    "# Your code goes here\n",
    "\n",
    "pgd_attack = LinfPGDAttack(adv_model, epsilon=8/255, k=4, alpha=2/255)\n",
    "accuracy_pgd = evaluate_model_on_adversarial_examples(adv_model, testloader, pgd_attack, device)\n",
    "print(f'Test Accuracy after PGD attack with k=4: {accuracy_pgd:.2f}%')\n",
    "\n",
    "\n",
    "################################ End #########################################"
   ]
  },
  {
   "cell_type": "markdown",
   "metadata": {},
   "source": [
    "Answer the following questions:\n",
    "1. What happened to the accuracy of the adversarially trained model?\n",
    "The accuracy of the adversarially trained model on clean test data might slightly decrease compared to the non-adversarially trained model. However, its robustness against adversarial examples, specifically those generated by the FGSM and PGD attacks, significantly improves.\n",
    "\n",
    "2. What do you conclude from the result of the FGSM attack on the adversarially trained model?\n",
    "The adversarially trained model is more robust against FGSM attacks compared to the non-adversarially trained model. This means that the model has learned to better withstand perturbations introduced by the FGSM attack, leading to higher accuracy on adversarial examples.\n",
    "\n",
    "3. What do you conclude from the result of the PGD attack on the adversarially trained model?\n",
    "The adversarially trained model also shows improved robustness against PGD attacks, though PGD attacks are generally more effective and sophisticated than FGSM attacks. The model's accuracy against PGD adversarial examples is likely lower than against FGSM examples but still higher than a non-adversarially trained model. This indicates that the adversarial training has helped the model generalize better to different types of adversarial attacks.\n",
    "\n",
    "4. What is your final conclusion?\n",
    "Adversarial training significantly enhances the robustness of deep learning models against adversarial attacks. While it might result in a slight decrease in accuracy on clean data, the improved resilience against adversarial perturbations is a critical trade-off, especially in applications where security and robustness are paramount. The adversarially trained model performs better against both FGSM and PGD attacks, demonstrating that adversarial training is an effective strategy to mitigate the vulnerabilities of deep neural networks to adversarial examples."
   ]
  },
  {
   "cell_type": "code",
   "execution_count": null,
   "metadata": {},
   "outputs": [],
   "source": []
  }
 ],
 "metadata": {
  "kaggle": {
   "accelerator": "nvidiaTeslaT4",
   "dataSources": [],
   "dockerImageVersionId": 30733,
   "isGpuEnabled": true,
   "isInternetEnabled": true,
   "language": "python",
   "sourceType": "notebook"
  },
  "kernelspec": {
   "display_name": "Python 3 (ipykernel)",
   "language": "python",
   "name": "python3"
  },
  "language_info": {
   "codemirror_mode": {
    "name": "ipython",
    "version": 3
   },
   "file_extension": ".py",
   "mimetype": "text/x-python",
   "name": "python",
   "nbconvert_exporter": "python",
   "pygments_lexer": "ipython3",
   "version": "3.11.0"
  }
 },
 "nbformat": 4,
 "nbformat_minor": 4
}
